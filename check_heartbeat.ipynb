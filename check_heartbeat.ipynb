{
 "metadata": {
  "name": "",
  "signature": "sha256:91673717388ffef8d301256b24fd8f135e2e25246ef40b7108a003012c407183"
 },
 "nbformat": 3,
 "nbformat_minor": 0,
 "worksheets": [
  {
   "cells": [
    {
     "cell_type": "code",
     "collapsed": false,
     "input": [
      "BAUDRATE=115200\n",
      "PEDLBRD_ID = 5\n",
      "import serial\n",
      "import time\n",
      "\n",
      "def _is_heartbeat_present(port, timeout=2):\n",
      "    \"return True if the given serial port is transmitting a heartbeat\"\n",
      "    # _debug(\"opening device %s\" % port)\n",
      "    try:\n",
      "        s = serial.Serial(port, baudrate=BAUDRATE, timeout=0.5)\n",
      "    except OSError:\n",
      "        # device is busy, probably open by another process\n",
      "        return False\n",
      "    s_read = s.read\n",
      "    time.sleep(1)\n",
      "    t0 = time.time()\n",
      "    while time.time() - t0 < timeout:\n",
      "        try:\n",
      "            b = s_read(1)\n",
      "            print \"->\", len(b), time.time() - t0\n",
      "            if len(b):       \n",
      "                b = ord(b)\n",
      "                if (b & 0b10000000) and (b & 0b01111111) == 72:  # ord('H')\n",
      "                    b = s_read(1)\n",
      "                    if len(b) and ord(b) < 128:\n",
      "                        device_id = ord(b)\n",
      "                        if device_id == PEDLBRD_ID:\n",
      "                            return True\n",
      "        except serial.SerialException:\n",
      "            # this happens when the device is in an unknown state, during firmware update, etc.\n",
      "            return False"
     ],
     "language": "python",
     "metadata": {},
     "outputs": [],
     "prompt_number": 44
    },
    {
     "cell_type": "code",
     "collapsed": false,
     "input": [
      "print _is_heartbeat_present(\"/dev/tty.usbmodemfd121\")"
     ],
     "language": "python",
     "metadata": {},
     "outputs": [
      {
       "output_type": "stream",
       "stream": "stdout",
       "text": [
        "-> 1 0.000169992446899\n",
        "-> 1 0.000267028808594\n",
        "True\n"
       ]
      }
     ],
     "prompt_number": 48
    },
    {
     "cell_type": "code",
     "collapsed": false,
     "input": [],
     "language": "python",
     "metadata": {},
     "outputs": []
    }
   ],
   "metadata": {}
  }
 ]
}